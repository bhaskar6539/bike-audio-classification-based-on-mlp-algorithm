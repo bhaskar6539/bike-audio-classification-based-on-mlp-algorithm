{
 "cells": [
  {
   "cell_type": "markdown",
   "metadata": {},
   "source": [
    "## loading saved feature and saved model for classification ##"
   ]
  },
  {
   "cell_type": "code",
   "execution_count": 1,
   "metadata": {},
   "outputs": [],
   "source": [
    "import pickle\n",
    "import pickle\n",
    "file=open('/home/ece/Music/features  gh FINAL','rb')\n",
    "featuresdf=pickle.load(file)\n",
    "file.close()"
   ]
  },
  {
   "cell_type": "code",
   "execution_count": 2,
   "metadata": {},
   "outputs": [],
   "source": [
    "from sklearn.preprocessing import LabelEncoder\n",
    "from keras.utils import to_categorical\n",
    "import numpy as np\n",
    "# Convert features and corresponding classification labels into numpy arrays\n",
    "X = np.array(featuresdf.feature.tolist())\n",
    "y = np.array(featuresdf.class_label.tolist())\n",
    "\n",
    "# Encode the classification labels\n",
    "le = LabelEncoder()\n",
    "yy = to_categorical(le.fit_transform(y)) "
   ]
  },
  {
   "cell_type": "code",
   "execution_count": 3,
   "metadata": {},
   "outputs": [],
   "source": [
    "# split the dataset \n",
    "from sklearn.model_selection import train_test_split \n",
    "\n",
    "x_train, x_test, y_train, y_test = train_test_split(X, yy, test_size=0.2, random_state = 42)"
   ]
  },
  {
   "cell_type": "code",
   "execution_count": 4,
   "metadata": {},
   "outputs": [],
   "source": [
    "import numpy as np\n",
    "from keras.models import Sequential\n",
    "from keras.layers import Dense, Dropout, Activation, Flatten\n",
    "from keras.layers import Convolution2D, MaxPooling2D\n",
    "from keras.optimizers import Adam\n",
    "from keras.utils import np_utils\n",
    "from sklearn import metrics "
   ]
  },
  {
   "cell_type": "code",
   "execution_count": 5,
   "metadata": {},
   "outputs": [],
   "source": [
    "import tensorflow as tf\n",
    "from tensorflow import keras"
   ]
  },
  {
   "cell_type": "code",
   "execution_count": 6,
   "metadata": {},
   "outputs": [
    {
     "name": "stdout",
     "output_type": "stream",
     "text": [
      "Model: \"sequential_1\"\n",
      "_________________________________________________________________\n",
      "Layer (type)                 Output Shape              Param #   \n",
      "=================================================================\n",
      "dense_5 (Dense)              (None, 256)               10496     \n",
      "_________________________________________________________________\n",
      "activation_5 (Activation)    (None, 256)               0         \n",
      "_________________________________________________________________\n",
      "dropout_4 (Dropout)          (None, 256)               0         \n",
      "_________________________________________________________________\n",
      "dense_6 (Dense)              (None, 256)               65792     \n",
      "_________________________________________________________________\n",
      "activation_6 (Activation)    (None, 256)               0         \n",
      "_________________________________________________________________\n",
      "dropout_5 (Dropout)          (None, 256)               0         \n",
      "_________________________________________________________________\n",
      "dense_7 (Dense)              (None, 256)               65792     \n",
      "_________________________________________________________________\n",
      "activation_7 (Activation)    (None, 256)               0         \n",
      "_________________________________________________________________\n",
      "dropout_6 (Dropout)          (None, 256)               0         \n",
      "_________________________________________________________________\n",
      "dense_8 (Dense)              (None, 256)               65792     \n",
      "_________________________________________________________________\n",
      "activation_8 (Activation)    (None, 256)               0         \n",
      "_________________________________________________________________\n",
      "dropout_7 (Dropout)          (None, 256)               0         \n",
      "_________________________________________________________________\n",
      "dense_9 (Dense)              (None, 6)                 1542      \n",
      "_________________________________________________________________\n",
      "activation_9 (Activation)    (None, 6)                 0         \n",
      "=================================================================\n",
      "Total params: 209,414\n",
      "Trainable params: 209,414\n",
      "Non-trainable params: 0\n",
      "_________________________________________________________________\n"
     ]
    }
   ],
   "source": [
    "model=keras.models.load_model('/home/ece/Music/weigh FINAtures.hdf5')\n",
    "model.summary()"
   ]
  },
  {
   "cell_type": "code",
   "execution_count": 7,
   "metadata": {},
   "outputs": [
    {
     "name": "stdout",
     "output_type": "stream",
     "text": [
      "2/2 [==============================] - 0s 3ms/step - loss: 0.0305 - accuracy: 1.0000\n",
      "accuray:100.00%\n"
     ]
    }
   ],
   "source": [
    "loss,acc=model.evaluate(x_test,y_test)\n",
    "print(\"accuray:{:5.2f}%\".format(100*acc))"
   ]
  },
  {
   "cell_type": "code",
   "execution_count": 8,
   "metadata": {},
   "outputs": [],
   "source": [
    "import librosa \n",
    "import numpy as np \n",
    "\n",
    "def extract_feature(file_name):\n",
    "   \n",
    "    try:\n",
    "        audio_data, sample_rate = librosa.load(file_name, res_type='kaiser_fast') \n",
    "        mfccs = librosa.feature.mfcc(y=audio_data, sr=sample_rate, n_mfcc=40)\n",
    "        mfccsscaled = np.mean(mfccs.T,axis=0)\n",
    "        \n",
    "    except Exception as e:\n",
    "        print(\"Error encountered while parsing file: \", file)\n",
    "        return None, None\n",
    "\n",
    "    return np.array([mfccsscaled])"
   ]
  },
  {
   "cell_type": "code",
   "execution_count": 50,
   "metadata": {},
   "outputs": [],
   "source": [
    "threshold=0.60\n",
    "def print_predictions(file_name):\n",
    "        prediction_feature = extract_feature(file_name) \n",
    "        predicted_vector = np.argmax(model.predict(prediction_feature), axis=-1)\n",
    "        predicted_class = le.inverse_transform(predicted_vector) \n",
    "        \n",
    "        global cur_labelb\n",
    "        cur_labelb=ttk.Label(canvas,text = str(\"The predicted class is:\")+str( predicted_class[0]), style='sp.TLabel')\n",
    "        cur_labelb.place(x=790,y=900)\n",
    "        predicted_proba_vector = model.predict(prediction_feature) \n",
    "        global predicted_proba\n",
    "        predicted_proba = predicted_proba_vector[0]   \n",
    "        for i in range(len(predicted_proba)): \n",
    "            \n",
    "            category = le.inverse_transform(np.array([i]))\n",
    "            if predicted_class[0] == category[0]:\n",
    "                if threshold > float(format(predicted_proba[i],'.5f')):\n",
    "                    cur_labels=ttk.Label(canvas,\n",
    "                                         text = str(\"THE PREDICTAED CLASS IS WITH LOW CONFIDENCE\")+str(format(predicted_proba[i],'.5f'))\n",
    "                                         ,style='green/black.TLabel')\n",
    "                    cur_labels.place(x=720,y=950)\n",
    "                \n",
    "        def small():\n",
    "            child=Toplevel(canvas)\n",
    "            child.geometry(\"400x200\") \n",
    "            child.title(\"PREDICTED RESULT\")\n",
    "            child.configure(background='black')\n",
    "            for i in range(len(predicted_proba)): \n",
    "                category = le.inverse_transform(np.array([i]))\n",
    "                print(category[0], \"\\t\\t : \", format(predicted_proba[i], '.5f') ) \n",
    "                cur_label='Label'+str(i)\n",
    "                cur_label=ttk.Label(child,\n",
    "                                text = str(category[0])+\" = \"+str(format(predicted_proba[i], '.3f')),\n",
    "                                style='green/black.TLabel')\n",
    "                cur_label.pack(fill = BOTH, expand = True)\n",
    "        small()    \n",
    "        "
   ]
  },
  {
   "cell_type": "code",
   "execution_count": 51,
   "metadata": {},
   "outputs": [],
   "source": [
    "\n",
    "def record(): \n",
    "    FORMAT = pyaudio.paInt16\n",
    "    CHANNELS = 2\n",
    "    RATE = 44100\n",
    "    CHUNK = 1024\n",
    "    RECORD_SECONDS = 10\n",
    "    WAVE_OUTPUT_FILENAME = \"filep.wav\"\n",
    " \n",
    "    audio = pyaudio.PyAudio()\n",
    "    # start Recording\n",
    "    stream = audio.open(format=FORMAT, channels=CHANNELS,\n",
    "                rate=RATE, input=True,\n",
    "                frames_per_buffer=CHUNK)\n",
    "    #print (\"recording...\")\n",
    "    frames = []\n",
    " \n",
    "    for i in range(0, int(RATE / CHUNK * RECORD_SECONDS)):\n",
    "        data = stream.read(CHUNK)\n",
    "        frames.append(data)\n",
    "    #print (\"finished recording\")\n",
    "    global cur_labela\n",
    "    cur_labela=ttk.Label(canvas,text = \"finished recording\",style='green/black.TLabel')\n",
    "    cur_labela.place(x=790,y=850)\n",
    " \n",
    "    # stop Recording\n",
    "    stream.stop_stream()\n",
    "    stream.close()\n",
    "    audio.terminate()\n",
    " \n",
    "    waveFile = wave.open(WAVE_OUTPUT_FILENAME, 'wb')\n",
    "    waveFile.setnchannels(CHANNELS)\n",
    "    waveFile.setsampwidth(audio.get_sample_size(FORMAT))\n",
    "    waveFile.setframerate(RATE)\n",
    "    waveFile.writeframes(b''.join(frames))\n",
    "    waveFile.close()\n",
    "def prd():\n",
    "    global filepath\n",
    "    filepath = '/home/ece/Music/filep.wav' \n",
    "    print_predictions(filepath)\n",
    "    small()\n",
    "def restart():\n",
    "    cur_labela=ttk.Label(canvas,text = \"                        \",style='green/black.TLabel')\n",
    "    cur_labela.place(x=790,y=850)\n",
    "    cur_labelb=ttk.Label(canvas,text = \"                                     \", style='sp.TLabel')\n",
    "    cur_labelb.place(x=790,y=900)\n",
    "    for i in range(len(predicted_proba)): \n",
    "            cur_label='Label'+str(i)\n",
    "            cur_label=ttk.Label(canvas,text =\"                       \",style='green/black.TLabel')\n",
    "            cur_label.grid(column=100,row=i+300,sticky='')\n",
    "   \n",
    "  \n",
    "def play():\n",
    "    pygame.mixer.init()\n",
    "    pygame.mixer.music.load(filepath)\n",
    "    pygame.mixer.music.play(loops=0)\n",
    "    \n",
    "def play1():\n",
    "    pygame.mixer.init()\n",
    "    pygame.mixer.music.load(filepath1)\n",
    "    pygame.mixer.music.play(loops=0)    \n",
    "    \n",
    "    \n",
    "def openfile():\n",
    "    global filepath1\n",
    "    filepath1=filedialog.askopenfilename()\n",
    "    print_predictions(filepath1)\n",
    "    "
   ]
  },
  {
   "cell_type": "code",
   "execution_count": 52,
   "metadata": {},
   "outputs": [],
   "source": [
    "import pygame\n",
    "import os\n",
    "import pyaudio\n",
    "import wave\n",
    "from tkinter import ttk"
   ]
  },
  {
   "cell_type": "code",
   "execution_count": 53,
   "metadata": {},
   "outputs": [
    {
     "name": "stdout",
     "output_type": "stream",
     "text": [
      "APACHE \t\t :  0.00000\n",
      "ENFIELD \t\t :  0.00000\n",
      "HARLEY \t\t :  0.00000\n",
      "KAWASAKI \t\t :  1.00000\n",
      "KTM \t\t :  0.00000\n",
      "PULSAR \t\t :  0.00000\n"
     ]
    }
   ],
   "source": [
    "from tkinter.ttk import *\n",
    "from tkinter import *\n",
    "import tkinter\n",
    "from tkinter import filedialog\n",
    "canvas = Tk()\n",
    "canvas.geometry('1920x1080')\n",
    "canvas = Canvas(width=1920, height=1080, bg='black')\n",
    "\n",
    "canvas.pack(expand=YES, fill=BOTH)\n",
    "\n",
    "gif1 = PhotoImage(file='fn.png')\n",
    "\n",
    "canvas.create_image(0, 0, image=gif1, anchor=NW)\n",
    "style = ttk.Style()\n",
    "ttk.Style().configure('green/black.TLabel',font=('Helvetica', 20,'bold'), foreground='#e9d10a', background='#020613')\n",
    "ttk.Style().configure('green/black.TButton',font=('Arial Black', 20,'bold'), foreground='#1164e8', background='#010101')\n",
    "ttk.Style().configure('sp.TLabel',font=('ariel', 25,'bold'), foreground='#e25d12', background='#020613')\n",
    "ttk.Style().configure('spW.TLabel',font=('ariel', 35,'bold'), foreground='#e5ce66', background='#020613')\n",
    "\n",
    "cur_labeld=ttk.Label(canvas,text = 'BIKE SOUND CLASSIFICATION ', style='spW.TLabel')\n",
    "cur_labeld.place(x=600,y=30)\n",
    "\n",
    "cur_labeld=ttk.Label(canvas,text = 'BASED ON MACHINE LEARNING', style='spW.TLabel')\n",
    "cur_labeld.place(x=600,y=80)\n",
    "\n",
    "button_rec = ttk.Button(canvas, text='START' ,style='green/black.TButton',command=record)\n",
    "button_rec.place(x=500,y=750)\n",
    "\n",
    "button_rec = ttk.Button(canvas, text='CLASSIFY RECORDED FILE',style='green/black.TButton',command=prd)\n",
    "button_rec.place(x=1280,y=750) \n",
    "\n",
    "button_rec = ttk.Button(canvas, text='CLASSIFY FROM FILE',style='green/black.TButton',command=openfile)\n",
    "button_rec.place(x=1280,y=800) \n",
    "\n",
    "button_rec = ttk.Button(canvas, text='RESET',style='green/black.TButton',command=restart)\n",
    "button_rec.place(x=500,y=800)\n",
    "\n",
    "play_button = ttk.Button(canvas, text='PLAY RECORDED FILE',style='green/black.TButton', command=play)\n",
    "play_button.place(x=700,y=950)\n",
    "\n",
    "play_button = ttk.Button(canvas, text='PLAY AUDIO FROM FILE',style='green/black.TButton', command=play1)\n",
    "play_button.place(x=980,y=950)\n",
    "mainloop()"
   ]
  },
  {
   "cell_type": "code",
   "execution_count": null,
   "metadata": {},
   "outputs": [],
   "source": []
  }
 ],
 "metadata": {
  "kernelspec": {
   "display_name": "Python 3",
   "language": "python",
   "name": "python3"
  },
  "language_info": {
   "codemirror_mode": {
    "name": "ipython",
    "version": 3
   },
   "file_extension": ".py",
   "mimetype": "text/x-python",
   "name": "python",
   "nbconvert_exporter": "python",
   "pygments_lexer": "ipython3",
   "version": "3.8.5"
  }
 },
 "nbformat": 4,
 "nbformat_minor": 4
}
